{
 "metadata": {
  "language_info": {
   "codemirror_mode": {
    "name": "ipython",
    "version": 3
   },
   "file_extension": ".py",
   "mimetype": "text/x-python",
   "name": "python",
   "nbconvert_exporter": "python",
   "pygments_lexer": "ipython3",
   "version": "3.7.0-final"
  },
  "orig_nbformat": 2,
  "kernelspec": {
   "name": "python3",
   "display_name": "Python 3",
   "language": "python"
  }
 },
 "nbformat": 4,
 "nbformat_minor": 2,
 "cells": [
  {
   "cell_type": "code",
   "execution_count": 41,
   "metadata": {},
   "outputs": [],
   "source": [
    "import os\n",
    "import re\n",
    "import pandas as pd"
   ]
  },
  {
   "cell_type": "code",
   "execution_count": 42,
   "metadata": {},
   "outputs": [],
   "source": [
    "# 读取当前目录，获得文件列表\n",
    "def getRootPath():\n",
    "    rootPath = os.getcwd()\n",
    "    file_list = os.listdir()\n",
    "    return rootPath, file_list"
   ]
  },
  {
   "cell_type": "code",
   "execution_count": 43,
   "metadata": {},
   "outputs": [],
   "source": [
    "# 读取文件内容，并返回Dataframe格式\n",
    "def readFile(filename):\n",
    "    rdData = pd.read_csv(filename, engine='python', encoding='utf-8-sig', index_col=0)   # 文件名有中文或数字开头时，将引擎由默认的C更换为python\n",
    "    return rdData"
   ]
  },
  {
   "cell_type": "code",
   "execution_count": 44,
   "metadata": {},
   "outputs": [],
   "source": [
    "def data2CSV(filename, dataMat):\n",
    "    dataMat.to_csv(filename, encoding='utf-8-sig')"
   ]
  },
  {
   "cell_type": "code",
   "execution_count": 45,
   "metadata": {
    "tags": []
   },
   "outputs": [
    {
     "output_type": "stream",
     "name": "stderr",
     "text": [
      "C:\\ProgramData\\Anaconda3\\lib\\site-packages\\ipykernel_launcher.py:10: FutureWarning: Sorting because non-concatenation axis is not aligned. A future version\nof pandas will change to not sort by default.\n\nTo accept the future behavior, pass 'sort=False'.\n\nTo retain the current behavior and silence the warning, pass 'sort=True'.\n\n  # Remove the CWD from sys.path while we load stuff.\n"
     ]
    }
   ],
   "source": [
    "if __name__ == \"__main__\":\n",
    "    rootPath, file_list = getRootPath()   # 获取一级目录\n",
    "    o319_list = [term for term in file_list if re.match(r'^0319', term)]   # 一级目录中以0319开头的文件列表\n",
    "    for ol in o319_list:  # 遍历二级目录\n",
    "        f_list = os.listdir(rootPath+'\\\\'+ol)\n",
    "        datalist = []\n",
    "        for f in f_list:  # 遍历三级目录，获取每篇文档中的Dataframe数据\n",
    "            dataMat = readFile(rootPath+'\\\\'+ol+ '\\\\' + f)\n",
    "            datalist.append(dataMat)\n",
    "            result = pd.concat(datalist)\n",
    "            data2CSV(rootPath+'\\\\'+ol+ '\\\\' + 'result.csv', result)"
   ]
  },
  {
   "cell_type": "code",
   "execution_count": null,
   "metadata": {},
   "outputs": [],
   "source": []
  }
 ]
}