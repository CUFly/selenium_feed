{
 "metadata": {
  "language_info": {
   "codemirror_mode": {
    "name": "ipython",
    "version": 3
   },
   "file_extension": ".py",
   "mimetype": "text/x-python",
   "name": "python",
   "nbconvert_exporter": "python",
   "pygments_lexer": "ipython3",
   "version": "3.7.0-final"
  },
  "orig_nbformat": 2,
  "kernelspec": {
   "name": "python3",
   "display_name": "Python 3.7.0 64-bit ('ProgramData': virtualenv)",
   "metadata": {
    "interpreter": {
     "hash": "b3ba2566441a7c06988d0923437866b63cedc61552a5af99d1f4fb67d367b25f"
    }
   }
  }
 },
 "nbformat": 4,
 "nbformat_minor": 2,
 "cells": [
  {
   "cell_type": "code",
   "execution_count": 1,
   "metadata": {},
   "outputs": [],
   "source": [
    "import os\n",
    "import pandas as pd"
   ]
  },
  {
   "cell_type": "code",
   "execution_count": 4,
   "metadata": {},
   "outputs": [
    {
     "output_type": "execute_result",
     "data": {
      "text/plain": [
       "['鱼叉式网络钓鱼电子邮件',\n",
       " '间谍软件',\n",
       " '自定义有效负载',\n",
       " '漏洞攻击',\n",
       " '网络钓鱼电子邮件',\n",
       " '木马',\n",
       " '漏洞利用',\n",
       " '窃取密码',\n",
       " '病毒',\n",
       " '网络鱼叉攻击',\n",
       " '文件篡改',\n",
       " 'Miniduke',\n",
       " '水坑式攻击',\n",
       " '代码执行',\n",
       " '供应链攻击',\n",
       " '网络钓鱼',\n",
       " '后门木马',\n",
       " '网络间谍',\n",
       " '窃听',\n",
       " '社会工程学',\n",
       " '战略网络妥协',\n",
       " '鱼叉式邮件',\n",
       " '恶意软件',\n",
       " '间谍活动',\n",
       " 'Cereals',\n",
       " 'Hadoop',\n",
       " '社工',\n",
       " '未授权命令执行',\n",
       " '监听',\n",
       " '零日漏洞',\n",
       " '钓鱼网站',\n",
       " '跨站脚本攻击',\n",
       " 'keyPath',\n",
       " '网络流量受损',\n",
       " 'APT攻击',\n",
       " '僵尸网络',\n",
       " '劫持',\n",
       " '社工手段',\n",
       " 'APT',\n",
       " '伪装',\n",
       " '虚假博客网站',\n",
       " '恶意脚本网络钓鱼邮件',\n",
       " '17463',\n",
       " '恶意扫描',\n",
       " '鱼叉式钓鱼',\n",
       " 'SaltStack',\n",
       " 'DDOS攻击',\n",
       " 'P2P种子陷阱',\n",
       " '鱼叉式邮件攻击',\n",
       " '恶意代码',\n",
       " '钓鱼邮件',\n",
       " 'HttpBrowser',\n",
       " '网站篡改',\n",
       " '钓鱼邮件钓鱼攻击',\n",
       " '恶意无线网络',\n",
       " 'SQL注入',\n",
       " 'Shiro',\n",
       " '中间人攻击',\n",
       " '鱼叉式网络钓鱼',\n",
       " 'Derusbi',\n",
       " '鱼叉式网络钓鱼攻击',\n",
       " '伪造程序',\n",
       " '鱼叉网络钓鱼',\n",
       " '凭证盗取',\n",
       " '伪造证书',\n",
       " '鱼叉攻击',\n",
       " '木马病毒',\n",
       " '水坑攻击',\n",
       " '恶意软件',\n",
       " '远程命令执行',\n",
       " 'ThinkPHP',\n",
       " '诱饵文件',\n",
       " 'RedisHadoop',\n",
       " '社会工程',\n",
       " '垃圾邮件',\n",
       " '密码爆破',\n",
       " '恶意邮件',\n",
       " '权限',\n",
       " '远控木马',\n",
       " '远程控制',\n",
       " '陷阱',\n",
       " '恶意脚本',\n",
       " '木马主控',\n",
       " '木马后门',\n",
       " '钓鱼攻击',\n",
       " 'cgi',\n",
       " '拒绝服务攻击',\n",
       " 'DDoS',\n",
       " 'RCEyxel',\n",
       " '木马植入',\n",
       " 'RCERedis',\n",
       " '网络钓鱼邮件',\n",
       " 'DNS劫持',\n",
       " '网络钓鱼攻击',\n",
       " '无文件攻击',\n",
       " '鱼叉式钓鱼攻击',\n",
       " '注入',\n",
       " 'C&C',\n",
       " '挖矿',\n",
       " '传播',\n",
       " '盗取证书',\n",
       " '提升权限',\n",
       " '电子邮件',\n",
       " 'PostgreSQL',\n",
       " '绕过服务',\n",
       " '0day',\n",
       " '勒索软件',\n",
       " '特权',\n",
       " '鱼叉式钓鱼邮件',\n",
       " '钓鱼邮件攻击',\n",
       " '暂无数据']"
      ]
     },
     "metadata": {},
     "execution_count": 4
    }
   ],
   "source": [
    "# 读取攻击方法列表\n",
    "file = open(\"newMethod.txt\", 'r', encoding='utf-8')\n",
    "methodList = file.readlines()\n",
    "methodList = [x.strip('\\n') for x in methodList]\n",
    "methodList"
   ]
  },
  {
   "cell_type": "code",
   "execution_count": null,
   "metadata": {},
   "outputs": [],
   "source": [
    "def newMethod(words):\n",
    "    newMethodList = []\n",
    "    words = str(words)\n",
    "    for ml in methodList:\n",
    "        if ml in words:\n"
   ]
  }
 ]
}