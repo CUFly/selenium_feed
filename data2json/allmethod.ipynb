{
 "metadata": {
  "language_info": {
   "codemirror_mode": {
    "name": "ipython",
    "version": 3
   },
   "file_extension": ".py",
   "mimetype": "text/x-python",
   "name": "python",
   "nbconvert_exporter": "python",
   "pygments_lexer": "ipython3",
   "version": "3.7.0-final"
  },
  "orig_nbformat": 2,
  "kernelspec": {
   "name": "python3",
   "display_name": "Python 3.7.0 64-bit (conda)",
   "metadata": {
    "interpreter": {
     "hash": "b3ba2566441a7c06988d0923437866b63cedc61552a5af99d1f4fb67d367b25f"
    }
   }
  }
 },
 "nbformat": 4,
 "nbformat_minor": 2,
 "cells": [
  {
   "cell_type": "code",
   "execution_count": 2,
   "metadata": {},
   "outputs": [],
   "source": [
    "import os\n",
    "import pandas as pd"
   ]
  },
  {
   "cell_type": "code",
   "execution_count": 23,
   "metadata": {},
   "outputs": [
    {
     "output_type": "execute_result",
     "data": {
      "text/plain": [
       "['ByAPT.csv',\n",
       " 'ByAPT2.csv',\n",
       " 'ByWeapon.csv',\n",
       " 'newByCompany.csv',\n",
       " 'newByCountry.csv',\n",
       " 'newByIndustry.csv',\n",
       " 'newByReportType.csv',\n",
       " 'newByYear.csv',\n",
       " 'report_info.csv']"
      ]
     },
     "metadata": {},
     "execution_count": 23
    }
   ],
   "source": [
    "path = os.getcwd()\n",
    "files = os.listdir(path + \"\\\\dataSets\\\\\")\n",
    "files"
   ]
  },
  {
   "cell_type": "code",
   "execution_count": 35,
   "metadata": {},
   "outputs": [
    {
     "output_type": "stream",
     "name": "stdout",
     "text": [
      "e:\\项目1\\selenium_feed\\data2json\\dataSets\\ByAPT.csv\n",
      "e:\\项目1\\selenium_feed\\data2json\\dataSets\\ByAPT2.csv\n",
      "e:\\项目1\\selenium_feed\\data2json\\dataSets\\ByWeapon.csv\n",
      "e:\\项目1\\selenium_feed\\data2json\\dataSets\\newByCompany.csv\n",
      "e:\\项目1\\selenium_feed\\data2json\\dataSets\\newByCountry.csv\n",
      "e:\\项目1\\selenium_feed\\data2json\\dataSets\\newByIndustry.csv\n",
      "e:\\项目1\\selenium_feed\\data2json\\dataSets\\newByReportType.csv\n",
      "e:\\项目1\\selenium_feed\\data2json\\dataSets\\newByYear.csv\n",
      "e:\\项目1\\selenium_feed\\data2json\\dataSets\\report_info.csv\n"
     ]
    }
   ],
   "source": [
    "for file in files:\n",
    "    filename = path + \"\\\\dataSets\\\\\" + file\n",
    "    print(filename)\n",
    "    with open(filename, 'r', encoding='utf-8-sig') as f:\n",
    "        data = pd.read_csv(f, index_col=0).astype(str)\n",
    "        data.fillna(\"暂无数据\")\n",
    "    data['攻击方法'].apply(createMethodTable)"
   ]
  },
  {
   "cell_type": "code",
   "execution_count": 14,
   "metadata": {},
   "outputs": [],
   "source": [
    "fr = open(filename, 'r', encoding='utf-8-sig')\n",
    "data = pd.read_csv(fr, index_col=0)\n",
    "fr.close()"
   ]
  },
  {
   "cell_type": "code",
   "execution_count": 16,
   "metadata": {},
   "outputs": [],
   "source": [
    "def createMethodTable(wordList):\n",
    "    try:\n",
    "        for w in wordList:\n",
    "            with open(\"method.txt\", 'a', encoding='utf-8') as f:\n",
    "                f.write(w)\n",
    "    except:\n",
    "        pass"
   ]
  },
  {
   "cell_type": "code",
   "execution_count": null,
   "metadata": {},
   "outputs": [],
   "source": []
  },
  {
   "cell_type": "code",
   "execution_count": 39,
   "metadata": {},
   "outputs": [
    {
     "output_type": "stream",
     "name": "stdout",
     "text": [
      "430\n"
     ]
    }
   ],
   "source": [
    "with open(\"method.txt\", 'r', encoding='utf-8') as f:\n",
    "    content = f.read()\n",
    "    methodList = content.split(',')\n",
    "# print(methodList)\n",
    "methodSet = set(methodList)\n",
    "print(len(methodSet))\n",
    "methodList = list(methodSet)\n",
    "with open(\"method1.txt\", 'w', encoding='utf-8') as f:\n",
    "    for ml in methodList:\n",
    "        f.write(ml+'\\n')"
   ]
  },
  {
   "cell_type": "code",
   "execution_count": 48,
   "metadata": {},
   "outputs": [],
   "source": [
    "with open(\"newdata.txt\", 'r', encoding='utf-8') as f2:\n",
    "    methodList2 = f2.readlines()\n",
    "    methodSet2 = set(methodList2)\n",
    "    methodList2 = list(methodSet2)\n",
    "with open(\"newMethod.txt\", 'w', encoding='utf-8') as f3:\n",
    "    for ml2 in methodList2:\n",
    "        f3.write(ml2)"
   ]
  },
  {
   "cell_type": "code",
   "execution_count": null,
   "metadata": {},
   "outputs": [],
   "source": []
  }
 ]
}