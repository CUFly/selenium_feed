{
 "metadata": {
  "language_info": {
   "codemirror_mode": {
    "name": "ipython",
    "version": 3
   },
   "file_extension": ".py",
   "mimetype": "text/x-python",
   "name": "python",
   "nbconvert_exporter": "python",
   "pygments_lexer": "ipython3",
   "version": "3.7.0"
  },
  "orig_nbformat": 2,
  "kernelspec": {
   "name": "python3",
   "display_name": "Python 3.7.0 64-bit ('base': conda)",
   "metadata": {
    "interpreter": {
     "hash": "b3ba2566441a7c06988d0923437866b63cedc61552a5af99d1f4fb67d367b25f"
    }
   }
  }
 },
 "nbformat": 4,
 "nbformat_minor": 2,
 "cells": [
  {
   "cell_type": "code",
   "execution_count": 48,
   "metadata": {},
   "outputs": [],
   "source": [
    "import os\n",
    "import pandas as pd"
   ]
  },
  {
   "cell_type": "code",
   "execution_count": 49,
   "metadata": {},
   "outputs": [
    {
     "output_type": "execute_result",
     "data": {
      "text/plain": [
       "['ByAPT.csv',\n",
       " 'ByAPT2.csv',\n",
       " 'ByWeapon.csv',\n",
       " 'newByCompany.csv',\n",
       " 'newByCountry.csv',\n",
       " 'newByIndustry.csv',\n",
       " 'newByReportType.csv',\n",
       " 'newByYear.csv',\n",
       " 'report_info.csv']"
      ]
     },
     "metadata": {},
     "execution_count": 49
    }
   ],
   "source": [
    "rootPath = os.getcwd()\n",
    "dataSets = rootPath + '\\\\' + \"dataSets\"\n",
    "fileList = os.listdir(dataSets)\n",
    "fileList"
   ]
  },
  {
   "cell_type": "code",
   "execution_count": 50,
   "metadata": {},
   "outputs": [
    {
     "output_type": "execute_result",
     "data": {
      "text/plain": [
       "['ByAPT2.csv',\n",
       " 'newByCompany.csv',\n",
       " 'newByCountry.csv',\n",
       " 'newByIndustry.csv',\n",
       " 'newByReportType.csv',\n",
       " 'newByYear.csv']"
      ]
     },
     "metadata": {},
     "execution_count": 50
    }
   ],
   "source": [
    "newFilelist = [fileList[i] for i in range(len(fileList)) if i != 0 and i!=2 and i!=8]\n",
    "newFilelist"
   ]
  },
  {
   "cell_type": "code",
   "execution_count": 51,
   "metadata": {},
   "outputs": [],
   "source": [
    "methodList = open(\"newMethod.txt\", 'r', encoding='utf-8').readlines()"
   ]
  },
  {
   "cell_type": "code",
   "execution_count": 52,
   "metadata": {},
   "outputs": [],
   "source": [
    "def replaceMethod(word):\n",
    "    newMethod = []\n",
    "    wList = []\n",
    "    word = word.strip('[').strip(']').split(',')\n",
    "    for w in word:\n",
    "        #print(w)\n",
    "        w = w.strip().strip(\"\\'\")\n",
    "        wList.append(w)\n",
    "        #print(w)\n",
    "    word = []\n",
    "    word = wList\n",
    "    for md in methodList:   # 遍历方法词典\n",
    "        # print(md)\n",
    "        for w in word:  # 遍历原列表\n",
    "            # print(w)\n",
    "            if w in md: # 如果原列表中子元素包含于方法词典子元素中\n",
    "                newMethod.append(md.strip()) # 将对应的方法词典子元素放入列表\n",
    "    newMethod = set(newMethod)\n",
    "    return list(newMethod)"
   ]
  },
  {
   "cell_type": "code",
   "execution_count": 53,
   "metadata": {},
   "outputs": [],
   "source": [
    "f = open(\"dataSets/newByYear.csv\", 'r', encoding='utf-8-sig')\n",
    "data = pd.read_csv(f, encoding='utf-8-sig', index_col=0)\n",
    "f.close()\n",
    "data['攻击方法'] = data['攻击方法'].apply(replaceMethod)\n",
    "data.to_csv(\"year.csv\", encoding='utf-8-sig')"
   ]
  },
  {
   "cell_type": "code",
   "execution_count": null,
   "metadata": {},
   "outputs": [],
   "source": []
  }
 ]
}